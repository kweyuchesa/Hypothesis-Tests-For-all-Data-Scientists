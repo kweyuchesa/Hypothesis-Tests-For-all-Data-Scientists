{
 "cells": [
  {
   "cell_type": "markdown",
   "metadata": {},
   "source": [
    "# Hypothesis Testing methodology and Concepts explained. \n",
    "\n",
    "    Our Salespeople dataset has the following properties \n",
    "    1. promoted — a binary value indicating if the salesperson was promoted or not in the recent promotion round\n",
    "    2. sales — the recent sales made by the salesperson in thousands of dollars\n",
    "    3. customer_rate — the recent average rating by customers of the salesperson on a scale of 1 to 5\n",
    "    4. performance — the most recent performance rating of the salesperson where a rating of 1 is the lowest and 4 is the highest."
   ]
  },
  {
   "cell_type": "markdown",
   "metadata": {},
   "source": [
    "# Example 1: Welch's Test \n",
    "    Welch’s t-test is a hypothesis test for determining if two populations have different means. There are a number of varieties of this test, but we will look at the two sample version and we will ask if high performing salespeople generate higher sales than low performing salespeople in the population. We start by assuming our null hypothesis which is that the difference in mean sales between high performers and low performers in the population is zero or less. Now we calculate our difference in means statistic for our sample."
   ]
  },
  {
   "cell_type": "code",
   "execution_count": 7,
   "metadata": {},
   "outputs": [],
   "source": [
    "#Importing libraries\n",
    "import pandas as pd\n",
    "import numpy as np\n",
    "from scipy import stats"
   ]
  },
  {
   "cell_type": "code",
   "execution_count": 2,
   "metadata": {},
   "outputs": [
    {
     "data": {
      "text/html": [
       "<div>\n",
       "<style scoped>\n",
       "    .dataframe tbody tr th:only-of-type {\n",
       "        vertical-align: middle;\n",
       "    }\n",
       "\n",
       "    .dataframe tbody tr th {\n",
       "        vertical-align: top;\n",
       "    }\n",
       "\n",
       "    .dataframe thead th {\n",
       "        text-align: right;\n",
       "    }\n",
       "</style>\n",
       "<table border=\"1\" class=\"dataframe\">\n",
       "  <thead>\n",
       "    <tr style=\"text-align: right;\">\n",
       "      <th></th>\n",
       "      <th>promoted</th>\n",
       "      <th>sales</th>\n",
       "      <th>customer_rate</th>\n",
       "      <th>performance</th>\n",
       "    </tr>\n",
       "  </thead>\n",
       "  <tbody>\n",
       "    <tr>\n",
       "      <th>0</th>\n",
       "      <td>0</td>\n",
       "      <td>594.0</td>\n",
       "      <td>3.94</td>\n",
       "      <td>2.0</td>\n",
       "    </tr>\n",
       "    <tr>\n",
       "      <th>1</th>\n",
       "      <td>0</td>\n",
       "      <td>446.0</td>\n",
       "      <td>4.06</td>\n",
       "      <td>3.0</td>\n",
       "    </tr>\n",
       "    <tr>\n",
       "      <th>2</th>\n",
       "      <td>1</td>\n",
       "      <td>674.0</td>\n",
       "      <td>3.83</td>\n",
       "      <td>4.0</td>\n",
       "    </tr>\n",
       "    <tr>\n",
       "      <th>3</th>\n",
       "      <td>0</td>\n",
       "      <td>525.0</td>\n",
       "      <td>3.62</td>\n",
       "      <td>2.0</td>\n",
       "    </tr>\n",
       "    <tr>\n",
       "      <th>4</th>\n",
       "      <td>1</td>\n",
       "      <td>657.0</td>\n",
       "      <td>4.40</td>\n",
       "      <td>3.0</td>\n",
       "    </tr>\n",
       "  </tbody>\n",
       "</table>\n",
       "</div>"
      ],
      "text/plain": [
       "   promoted  sales  customer_rate  performance\n",
       "0         0  594.0           3.94          2.0\n",
       "1         0  446.0           4.06          3.0\n",
       "2         1  674.0           3.83          4.0\n",
       "3         0  525.0           3.62          2.0\n",
       "4         1  657.0           4.40          3.0"
      ]
     },
     "execution_count": 2,
     "metadata": {},
     "output_type": "execute_result"
    }
   ],
   "source": [
    "#Getting the dataset\n",
    "url = \"http://peopleanalytics-regression-book.org/data/salespeople.csv\"\n",
    "salespeople = pd.read_csv(url)\n",
    "salespeople.head()"
   ]
  },
  {
   "cell_type": "code",
   "execution_count": 3,
   "metadata": {},
   "outputs": [],
   "source": [
    "# get sales for top and bottom performers\n",
    "perf1 = salespeople[salespeople.performance == 1].sales\n",
    "perf4 = salespeople[salespeople.performance == 4].sales"
   ]
  },
  {
   "cell_type": "code",
   "execution_count": 9,
   "metadata": {},
   "outputs": [
    {
     "name": "stdout",
     "output_type": "stream",
     "text": [
      "Ttest_indResult(statistic=4.629477606844271, pvalue=1.0932443461577038e-05)\n"
     ]
    }
   ],
   "source": [
    "# welch's independent t-test with unequal variance\n",
    "ttest = stats.ttest_ind(perf4, perf1, equal_var=False)\n",
    "print(ttest)"
   ]
  },
  {
   "cell_type": "markdown",
   "metadata": {},
   "source": [
    "# Analysis Results - P-value interprentation\n",
    "    H0(Null Hypothesis): difference in mean sales between high performers and low performers in the population is zero or less.\n",
    "    H1(alternate Hypothesis): high performing salespeople generate higher sales than low performing salespeople.\n",
    "    \n",
    "    Assumption 1: Sales is a random variable — that is, that the sales of one salesperson is independent of another. Therefore we expect the difference in mean sales between the two groups to also be a random variable.\n",
    "    \n",
    "    we therefore expect the true population difference to be on a t-distribution centered around our sample statistic, which is an estimate of a normal distribution based on our sample. \n",
    "    \n",
    "    To get the precise t-distribution, we need the degrees of freedom - 100.98 degrees: This represents the maximum probability of our sample statistic occurring under the null hypothesis, and is known as the p-value of the hypothesis test.\n",
    "    \n",
    "    We also need to know the standard deviation of the mean difference, which we call the standard error - 4.63 \n",
    "    \n",
    " # Results interpretentation\n",
    "     So we determine that the maximum probability of our sample statistic occurring under the null hypothesis is 0.000005 — much less than even a very stringent alpha. In most cases this would be considered too unlikely to accept the null hypothesis and we will reject it in favour of the alternative hypothesis — that high performing salespeople generate higher sales than low performing salespeople."
   ]
  },
  {
   "cell_type": "markdown",
   "metadata": {},
   "source": [
    "# Example 2— Correlation test\n",
    "    Another common hypothesis test is a test that two numeric variables have a non-zero correlation.\n",
    "    Let’s ask if there is a non-zero correlation between sales and customer_rate in our salespeople data set. \n",
    "    As usual we assume the null hypothesis — that there is a zero correlation between these variables. We then calculate the sample correlation. \n",
    "    we expect the true population correlation to lie in a distribution around this sample statistic. A simple correlation like this is expected to observe a t-distribution with n-2 degrees of freedom (348 in this case) and the standard error is approximately 0.05."
   ]
  },
  {
   "cell_type": "code",
   "execution_count": null,
   "metadata": {},
   "outputs": [],
   "source": [
    "import numpy as np"
   ]
  },
  {
   "cell_type": "code",
   "execution_count": null,
   "metadata": {},
   "outputs": [],
   "source": [
    "#calculate correlation and p-value \n",
    "sales = salespeople.sales[~np.isnan(salespeople.sales)]"
   ]
  },
  {
   "cell_type": "code",
   "execution_count": 13,
   "metadata": {},
   "outputs": [
    {
     "name": "stdout",
     "output_type": "stream",
     "text": [
      "(0.33780504485867807, 8.647952212091666e-11)\n"
     ]
    }
   ],
   "source": [
    "cust_rate = salespeople.customer_rate[~np.isnan(salespeople.customer_rate)]\n",
    "cor = stats.pearsonr(sales, cust_rate)\n",
    "print(cor)"
   ]
  },
  {
   "cell_type": "markdown",
   "metadata": {},
   "source": [
    "# Example 3— Chi-square test of difference in proportion\n",
    "    This example is critical when dealing with categorical variables.\n",
    "    A common question is whether there is a difference in proportion across different categories of a such a variable. A chi-square test is a hypothesis test designed for this purpose.\n",
    "    \n",
    "    QUESTION: is there a difference in the proportion of salespeople who are promoted between the different performance categories?\n",
    "    H0(Null Hypothesis): the proportion of salespeople who are promoted is the same across all the performance categories.\n",
    "    \n",
    "    1. Let’s look at the proportion of salespeople who were promoted in each performance category by creating a contingency table or cross table for performance and promotion.\n",
    "    \n",
    "    2. Next we assume that there was perfect equality across the categories. We do this by calculating the overall proportion of promoted salespeople and then applying this proportion to the number of salespeople in each category.\n",
    "    \n",
    "    3. Calculate chi-square statistics: As with our t-statistic earlier, the chi-square statistic has an expected distribution which is dependent on the degrees of freedom. The degrees of freedom are calculated by subtracting one from the number of rows and the number of columns of the contingency table and multiplying them together"
   ]
  },
  {
   "cell_type": "code",
   "execution_count": 15,
   "metadata": {},
   "outputs": [
    {
     "data": {
      "text/html": [
       "<div>\n",
       "<style scoped>\n",
       "    .dataframe tbody tr th:only-of-type {\n",
       "        vertical-align: middle;\n",
       "    }\n",
       "\n",
       "    .dataframe tbody tr th {\n",
       "        vertical-align: top;\n",
       "    }\n",
       "\n",
       "    .dataframe thead th {\n",
       "        text-align: right;\n",
       "    }\n",
       "</style>\n",
       "<table border=\"1\" class=\"dataframe\">\n",
       "  <thead>\n",
       "    <tr style=\"text-align: right;\">\n",
       "      <th>performance</th>\n",
       "      <th>1.0</th>\n",
       "      <th>2.0</th>\n",
       "      <th>3.0</th>\n",
       "      <th>4.0</th>\n",
       "    </tr>\n",
       "    <tr>\n",
       "      <th>promoted</th>\n",
       "      <th></th>\n",
       "      <th></th>\n",
       "      <th></th>\n",
       "      <th></th>\n",
       "    </tr>\n",
       "  </thead>\n",
       "  <tbody>\n",
       "    <tr>\n",
       "      <th>0</th>\n",
       "      <td>50</td>\n",
       "      <td>85</td>\n",
       "      <td>77</td>\n",
       "      <td>25</td>\n",
       "    </tr>\n",
       "    <tr>\n",
       "      <th>1</th>\n",
       "      <td>10</td>\n",
       "      <td>25</td>\n",
       "      <td>48</td>\n",
       "      <td>30</td>\n",
       "    </tr>\n",
       "  </tbody>\n",
       "</table>\n",
       "</div>"
      ],
      "text/plain": [
       "performance  1.0  2.0  3.0  4.0\n",
       "promoted                       \n",
       "0             50   85   77   25\n",
       "1             10   25   48   30"
      ]
     },
     "execution_count": 15,
     "metadata": {},
     "output_type": "execute_result"
    }
   ],
   "source": [
    "# create contingency table for promoted versus performance\n",
    "contingency = pd.crosstab(salespeople.promoted, salespeople.performance)\n",
    "contingency"
   ]
  },
  {
   "cell_type": "code",
   "execution_count": 17,
   "metadata": {},
   "outputs": [
    {
     "data": {
      "text/plain": [
       "(25.895405268094862,\n",
       " 1.0030629464566802e-05,\n",
       " 3,\n",
       " array([[40.62857143, 74.48571429, 84.64285714, 37.24285714],\n",
       "        [19.37142857, 35.51428571, 40.35714286, 17.75714286]]))"
      ]
     },
     "execution_count": 17,
     "metadata": {},
     "output_type": "execute_result"
    }
   ],
   "source": [
    "# perform chi-square test\n",
    "chi2_test = stats.chi2_contingency(contingency)\n",
    "chi2_test"
   ]
  },
  {
   "cell_type": "markdown",
   "metadata": {},
   "source": [
    "# Results\n",
    "     The Graph area is extremely small indicating that we are likely to reject the null hypothesis and confirm the alternative hypothesis that there is a difference in promotion rates between promotion categories."
   ]
  }
 ],
 "metadata": {
  "kernelspec": {
   "display_name": "Python 3",
   "language": "python",
   "name": "python3"
  },
  "language_info": {
   "codemirror_mode": {
    "name": "ipython",
    "version": 3
   },
   "file_extension": ".py",
   "mimetype": "text/x-python",
   "name": "python",
   "nbconvert_exporter": "python",
   "pygments_lexer": "ipython3",
   "version": "3.7.1"
  }
 },
 "nbformat": 4,
 "nbformat_minor": 2
}
